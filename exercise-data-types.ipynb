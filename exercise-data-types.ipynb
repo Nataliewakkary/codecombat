{
 "cells": [
  {
   "cell_type": "markdown",
   "id": "37574eef",
   "metadata": {
    "papermill": {
     "duration": 0.007613,
     "end_time": "2023-03-14T02:24:18.529847",
     "exception": false,
     "start_time": "2023-03-14T02:24:18.522234",
     "status": "completed"
    },
    "tags": []
   },
   "source": [
    "**This notebook is an exercise in the [Intro to Programming](https://www.kaggle.com/learn/intro-to-programming) course.  You can reference the tutorial at [this link](https://www.kaggle.com/alexisbcook/data-types).**\n",
    "\n",
    "---\n"
   ]
  },
  {
   "cell_type": "markdown",
   "id": "9d53c488",
   "metadata": {
    "papermill": {
     "duration": 0.00654,
     "end_time": "2023-03-14T02:24:18.543345",
     "exception": false,
     "start_time": "2023-03-14T02:24:18.536805",
     "status": "completed"
    },
    "tags": []
   },
   "source": [
    "In the tutorial, you learned about four different data types: floats, integers, strings, and booleans.  In this exercise, you'll experiment with them.\n",
    "\n",
    "# Set up the notebook\n",
    "\n",
    "Run the next code cell without changes to set up the notebook."
   ]
  },
  {
   "cell_type": "code",
   "execution_count": 1,
   "id": "5379a3eb",
   "metadata": {
    "execution": {
     "iopub.execute_input": "2023-03-14T02:24:18.558976Z",
     "iopub.status.busy": "2023-03-14T02:24:18.558411Z",
     "iopub.status.idle": "2023-03-14T02:24:18.620775Z",
     "shell.execute_reply": "2023-03-14T02:24:18.619775Z"
    },
    "papermill": {
     "duration": 0.074432,
     "end_time": "2023-03-14T02:24:18.624371",
     "exception": false,
     "start_time": "2023-03-14T02:24:18.549939",
     "status": "completed"
    },
    "tags": []
   },
   "outputs": [
    {
     "name": "stdout",
     "output_type": "stream",
     "text": [
      "Setup complete.\n"
     ]
    }
   ],
   "source": [
    "# Set up the exercise\n",
    "from learntools.core import binder\n",
    "binder.bind(globals())\n",
    "from learntools.intro_to_programming.ex3 import *\n",
    "print('Setup complete.')"
   ]
  },
  {
   "cell_type": "markdown",
   "id": "282a2a75",
   "metadata": {
    "papermill": {
     "duration": 0.006368,
     "end_time": "2023-03-14T02:24:18.638742",
     "exception": false,
     "start_time": "2023-03-14T02:24:18.632374",
     "status": "completed"
    },
    "tags": []
   },
   "source": [
    "# Question 1\n",
    "\n",
    "You have seen how to convert a float to an integer with the `int` function.  Try this out yourself by running the code cell below."
   ]
  },
  {
   "cell_type": "code",
   "execution_count": 2,
   "id": "9739edf3",
   "metadata": {
    "execution": {
     "iopub.execute_input": "2023-03-14T02:24:18.653462Z",
     "iopub.status.busy": "2023-03-14T02:24:18.653048Z",
     "iopub.status.idle": "2023-03-14T02:24:18.660313Z",
     "shell.execute_reply": "2023-03-14T02:24:18.658989Z"
    },
    "papermill": {
     "duration": 0.017805,
     "end_time": "2023-03-14T02:24:18.662965",
     "exception": false,
     "start_time": "2023-03-14T02:24:18.645160",
     "status": "completed"
    },
    "tags": []
   },
   "outputs": [
    {
     "name": "stdout",
     "output_type": "stream",
     "text": [
      "1.0\n",
      "<class 'float'>\n",
      "1\n",
      "<class 'int'>\n"
     ]
    }
   ],
   "source": [
    "# Define a float\n",
    "y = 1.\n",
    "print(y)\n",
    "print(type(y))\n",
    "\n",
    "# Convert float to integer with the int function\n",
    "z = int(y)\n",
    "print(z)\n",
    "print(type(z))"
   ]
  },
  {
   "cell_type": "markdown",
   "id": "fc22c7c3",
   "metadata": {
    "papermill": {
     "duration": 0.006507,
     "end_time": "2023-03-14T02:24:18.676008",
     "exception": false,
     "start_time": "2023-03-14T02:24:18.669501",
     "status": "completed"
    },
    "tags": []
   },
   "source": [
    "In this case, the float you are using has no numbers after the decimal.  \n",
    "- But what happens when you try to convert a float with a fractional part to an integer?  \n",
    "- How does the outcome of the `int` function change for positive and negative numbers?\n",
    "\n",
    "Use the next code cell to investigate and answer these questions.  Feel free to add or remove any lines of code -- it is your workspace!"
   ]
  },
  {
   "cell_type": "code",
   "execution_count": 3,
   "id": "daafafc2",
   "metadata": {
    "execution": {
     "iopub.execute_input": "2023-03-14T02:24:18.691577Z",
     "iopub.status.busy": "2023-03-14T02:24:18.690871Z",
     "iopub.status.idle": "2023-03-14T02:24:18.698627Z",
     "shell.execute_reply": "2023-03-14T02:24:18.696648Z"
    },
    "papermill": {
     "duration": 0.018548,
     "end_time": "2023-03-14T02:24:18.701200",
     "exception": false,
     "start_time": "2023-03-14T02:24:18.682652",
     "status": "completed"
    },
    "tags": []
   },
   "outputs": [
    {
     "name": "stdout",
     "output_type": "stream",
     "text": [
      "1\n",
      "1\n",
      "-3\n",
      "-2\n"
     ]
    }
   ],
   "source": [
    "# Uncomment and run this code to get started!\n",
    "print(int(1.2321))\n",
    "print(int(1.747))\n",
    "print(int(-3.94535))\n",
    "print(int(-2.19774))"
   ]
  },
  {
   "cell_type": "markdown",
   "id": "41ab404c",
   "metadata": {
    "papermill": {
     "duration": 0.006373,
     "end_time": "2023-03-14T02:24:18.714271",
     "exception": false,
     "start_time": "2023-03-14T02:24:18.707898",
     "status": "completed"
    },
    "tags": []
   },
   "source": [
    "Once you have an answer, run the code cell below to see the solution.  Viewing the solution will give you credit for answering the problem."
   ]
  },
  {
   "cell_type": "code",
   "execution_count": 4,
   "id": "aee99f19",
   "metadata": {
    "execution": {
     "iopub.execute_input": "2023-03-14T02:24:18.730407Z",
     "iopub.status.busy": "2023-03-14T02:24:18.728983Z",
     "iopub.status.idle": "2023-03-14T02:24:18.742004Z",
     "shell.execute_reply": "2023-03-14T02:24:18.740569Z"
    },
    "papermill": {
     "duration": 0.023821,
     "end_time": "2023-03-14T02:24:18.744720",
     "exception": false,
     "start_time": "2023-03-14T02:24:18.720899",
     "status": "completed"
    },
    "tags": []
   },
   "outputs": [
    {
     "data": {
      "application/javascript": [
       "parent.postMessage({\"jupyterEvent\": \"custom.exercise_interaction\", \"data\": {\"outcomeType\": 1, \"valueTowardsCompletion\": 0.2, \"interactionType\": 1, \"questionType\": 4, \"questionId\": \"1_FloatToInt\", \"learnToolsVersion\": \"0.3.4\", \"failureMessage\": \"\", \"exceptionClass\": \"\", \"trace\": \"\"}}, \"*\")"
      ],
      "text/plain": [
       "<IPython.core.display.Javascript object>"
      ]
     },
     "metadata": {},
     "output_type": "display_data"
    },
    {
     "data": {
      "text/markdown": [
       "<span style=\"color:#33cc33\">Correct:</span> \n",
       "\n",
       "Negative floats are always rounded UP to the closest integer (for instance, both -1.1 and -1.9 are rounded up to -1). Positive floats are always rounded DOWN to the closest integer (for instance, 2.1 and 2.9 are rounded down to 2)."
      ],
      "text/plain": [
       "Correct: \n",
       "\n",
       "Negative floats are always rounded UP to the closest integer (for instance, both -1.1 and -1.9 are rounded up to -1). Positive floats are always rounded DOWN to the closest integer (for instance, 2.1 and 2.9 are rounded down to 2)."
      ]
     },
     "metadata": {},
     "output_type": "display_data"
    }
   ],
   "source": [
    "# Check your answer (Run this code cell to receive credit!)\n",
    "q1.check()"
   ]
  },
  {
   "cell_type": "markdown",
   "id": "a93cf705",
   "metadata": {
    "papermill": {
     "duration": 0.006648,
     "end_time": "2023-03-14T02:24:18.758548",
     "exception": false,
     "start_time": "2023-03-14T02:24:18.751900",
     "status": "completed"
    },
    "tags": []
   },
   "source": [
    "# Question 2\n",
    "\n",
    "In the tutorial, you learned about booleans (which can take a value of `True` or `False`), in addition to integers, floats, and strings.  For this question, your goal is to determine what happens when you multiply a boolean by any of these data types.  Specifically, \n",
    "- What happens when you multiply an integer or float by `True`?  What happens when you multiply them by `False`?  How does the answer change if the numbers are positive or negative?\n",
    "- What happens when you multiply a string by `True`?  By `False`?\n",
    "\n",
    "Use the next code cell for your investigation. "
   ]
  },
  {
   "cell_type": "code",
   "execution_count": 5,
   "id": "61c78d21",
   "metadata": {
    "execution": {
     "iopub.execute_input": "2023-03-14T02:24:18.774841Z",
     "iopub.status.busy": "2023-03-14T02:24:18.774371Z",
     "iopub.status.idle": "2023-03-14T02:24:18.780994Z",
     "shell.execute_reply": "2023-03-14T02:24:18.779483Z"
    },
    "papermill": {
     "duration": 0.018073,
     "end_time": "2023-03-14T02:24:18.783827",
     "exception": false,
     "start_time": "2023-03-14T02:24:18.765754",
     "status": "completed"
    },
    "tags": []
   },
   "outputs": [
    {
     "name": "stdout",
     "output_type": "stream",
     "text": [
      "3\n",
      "-3.1\n",
      "-0.0\n",
      "<class 'str'>\n",
      "0\n"
     ]
    }
   ],
   "source": [
    "# Uncomment and run this code to get started!\n",
    "print(3 * True)\n",
    "print(-3.1 * True)\n",
    "print(-3.1 * False)\n",
    "print(type(\"abc\" * False))\n",
    "print(len(\"abc\" * False))"
   ]
  },
  {
   "cell_type": "markdown",
   "id": "80d6ab1e",
   "metadata": {
    "papermill": {
     "duration": 0.006661,
     "end_time": "2023-03-14T02:24:18.798592",
     "exception": false,
     "start_time": "2023-03-14T02:24:18.791931",
     "status": "completed"
    },
    "tags": []
   },
   "source": [
    "Once you have an answer, run the code cell below to see the solution.  Viewing the solution will give you credit for answering the problem."
   ]
  },
  {
   "cell_type": "code",
   "execution_count": 6,
   "id": "6be24a6c",
   "metadata": {
    "execution": {
     "iopub.execute_input": "2023-03-14T02:24:18.814533Z",
     "iopub.status.busy": "2023-03-14T02:24:18.814102Z",
     "iopub.status.idle": "2023-03-14T02:24:18.825976Z",
     "shell.execute_reply": "2023-03-14T02:24:18.824599Z"
    },
    "papermill": {
     "duration": 0.023056,
     "end_time": "2023-03-14T02:24:18.828607",
     "exception": false,
     "start_time": "2023-03-14T02:24:18.805551",
     "status": "completed"
    },
    "tags": []
   },
   "outputs": [
    {
     "data": {
      "application/javascript": [
       "parent.postMessage({\"jupyterEvent\": \"custom.exercise_interaction\", \"data\": {\"outcomeType\": 1, \"valueTowardsCompletion\": 0.2, \"interactionType\": 1, \"questionType\": 4, \"questionId\": \"2_MultiplyBooleans\", \"learnToolsVersion\": \"0.3.4\", \"failureMessage\": \"\", \"exceptionClass\": \"\", \"trace\": \"\"}}, \"*\")"
      ],
      "text/plain": [
       "<IPython.core.display.Javascript object>"
      ]
     },
     "metadata": {},
     "output_type": "display_data"
    },
    {
     "data": {
      "text/markdown": [
       "<span style=\"color:#33cc33\">Correct:</span> \n",
       "\n",
       "When you multiple an integer or float by a boolean with value `True`, it just returns that same integer or float (and is equivalent to multiplying by 1).  If you multiply an integer or float by a boolean with value `False`, it always returns 0.  This is true for both positive and negative numbers.  If you multiply a string by a boolean with value `True`, it just returns that same string.  And if you multiply a string by a boolean with value `False`, it returns an empty string (or a string with length zero)."
      ],
      "text/plain": [
       "Correct: \n",
       "\n",
       "When you multiple an integer or float by a boolean with value `True`, it just returns that same integer or float (and is equivalent to multiplying by 1).  If you multiply an integer or float by a boolean with value `False`, it always returns 0.  This is true for both positive and negative numbers.  If you multiply a string by a boolean with value `True`, it just returns that same string.  And if you multiply a string by a boolean with value `False`, it returns an empty string (or a string with length zero)."
      ]
     },
     "metadata": {},
     "output_type": "display_data"
    }
   ],
   "source": [
    "# Check your answer (Run this code cell to receive credit!)\n",
    "q2.check()"
   ]
  },
  {
   "cell_type": "markdown",
   "id": "5f0900c4",
   "metadata": {
    "papermill": {
     "duration": 0.007156,
     "end_time": "2023-03-14T02:24:18.843367",
     "exception": false,
     "start_time": "2023-03-14T02:24:18.836211",
     "status": "completed"
    },
    "tags": []
   },
   "source": [
    "# Question 3\n",
    "\n",
    "In this question, you will build off your work from the previous exercise to write a function that estimates the value of a house.\n",
    "\n",
    "Use the next code cell to create a function `get_expected_cost` that takes as input three variables:\n",
    "- `beds` - number of bedrooms (data type float)\n",
    "- `baths` - number of bathrooms (data type float)\n",
    "- `has_basement` - whether or not the house has a basement (data type boolean)\n",
    "\n",
    "It should return the expected cost of a house with those characteristics. Assume that:\n",
    "- the expected cost for a house with 0 bedrooms and 0 bathrooms, and no basement is 80000, \n",
    "- each bedroom adds 30000 to the expected cost,\n",
    "- each bathroom adds 10000 to the expected cost, and\n",
    "- a basement adds 40000 to the expected cost.\n",
    "\n",
    "For instance,\n",
    "- a house with 1 bedroom, 1 bathroom, and no basement has an expected cost of 80000 + 30000 + 10000 = 120000.  This value will be calculated with `get_expected_cost(1, 1, False)`.\n",
    "- a house with 2 bedrooms, 1 bathroom, and a basement has an expected cost of 80000 + 2*30000 + 10000 + 40000 = 190000.  This value will be calculated with `get_expected_cost(2, 1, True)`.\n",
    "\n",
    "Remember you can always get a hint by uncommenting `q3.hint()` in the code cell following the next!"
   ]
  },
  {
   "cell_type": "code",
   "execution_count": 7,
   "id": "aa024f59",
   "metadata": {
    "execution": {
     "iopub.execute_input": "2023-03-14T02:24:18.860054Z",
     "iopub.status.busy": "2023-03-14T02:24:18.859486Z",
     "iopub.status.idle": "2023-03-14T02:24:18.869267Z",
     "shell.execute_reply": "2023-03-14T02:24:18.868134Z"
    },
    "papermill": {
     "duration": 0.021049,
     "end_time": "2023-03-14T02:24:18.871714",
     "exception": false,
     "start_time": "2023-03-14T02:24:18.850665",
     "status": "completed"
    },
    "tags": []
   },
   "outputs": [
    {
     "data": {
      "application/javascript": [
       "parent.postMessage({\"jupyterEvent\": \"custom.exercise_interaction\", \"data\": {\"outcomeType\": 1, \"valueTowardsCompletion\": 0.2, \"interactionType\": 1, \"questionType\": 2, \"questionId\": \"3_EstimateHouseValueBool\", \"learnToolsVersion\": \"0.3.4\", \"failureMessage\": \"\", \"exceptionClass\": \"\", \"trace\": \"\"}}, \"*\")"
      ],
      "text/plain": [
       "<IPython.core.display.Javascript object>"
      ]
     },
     "metadata": {},
     "output_type": "display_data"
    },
    {
     "data": {
      "text/markdown": [
       "<span style=\"color:#33cc33\">Correct</span>"
      ],
      "text/plain": [
       "Correct"
      ]
     },
     "metadata": {},
     "output_type": "display_data"
    }
   ],
   "source": [
    "#### TODO: Complete the function\n",
    "def get_expected_cost(beds, baths, has_basement): \n",
    "    value = 80000 + 30000 * beds + 10000 * baths + 40000 * has_basement\n",
    "    return value\n",
    "\n",
    "# Check your answer \n",
    "q3.check()"
   ]
  },
  {
   "cell_type": "code",
   "execution_count": 8,
   "id": "2c7ead9c",
   "metadata": {
    "execution": {
     "iopub.execute_input": "2023-03-14T02:24:18.888603Z",
     "iopub.status.busy": "2023-03-14T02:24:18.888209Z",
     "iopub.status.idle": "2023-03-14T02:24:18.901678Z",
     "shell.execute_reply": "2023-03-14T02:24:18.900616Z"
    },
    "papermill": {
     "duration": 0.025454,
     "end_time": "2023-03-14T02:24:18.904579",
     "exception": false,
     "start_time": "2023-03-14T02:24:18.879125",
     "status": "completed"
    },
    "tags": []
   },
   "outputs": [
    {
     "data": {
      "application/javascript": [
       "parent.postMessage({\"jupyterEvent\": \"custom.exercise_interaction\", \"data\": {\"interactionType\": 2, \"questionType\": 2, \"questionId\": \"3_EstimateHouseValueBool\", \"learnToolsVersion\": \"0.3.4\", \"valueTowardsCompletion\": 0.0, \"failureMessage\": \"\", \"exceptionClass\": \"\", \"trace\": \"\", \"outcomeType\": 4}}, \"*\")"
      ],
      "text/plain": [
       "<IPython.core.display.Javascript object>"
      ]
     },
     "metadata": {},
     "output_type": "display_data"
    },
    {
     "data": {
      "text/markdown": [
       "<span style=\"color:#3366cc\">Hint:</span> The variable `has_basement` is either `True` or `False`.  What happens when you multiply it by 40000 (the value of a basement)?  Refer to the previous question if you are unsure."
      ],
      "text/plain": [
       "Hint: The variable `has_basement` is either `True` or `False`.  What happens when you multiply it by 40000 (the value of a basement)?  Refer to the previous question if you are unsure."
      ]
     },
     "metadata": {},
     "output_type": "display_data"
    },
    {
     "data": {
      "application/javascript": [
       "parent.postMessage({\"jupyterEvent\": \"custom.exercise_interaction\", \"data\": {\"interactionType\": 3, \"questionType\": 2, \"questionId\": \"3_EstimateHouseValueBool\", \"learnToolsVersion\": \"0.3.4\", \"valueTowardsCompletion\": 0.0, \"failureMessage\": \"\", \"exceptionClass\": \"\", \"trace\": \"\", \"outcomeType\": 4}}, \"*\")"
      ],
      "text/plain": [
       "<IPython.core.display.Javascript object>"
      ]
     },
     "metadata": {},
     "output_type": "display_data"
    },
    {
     "data": {
      "text/markdown": [
       "<span style=\"color:#33cc99\">Solution:</span> \n",
       "```python\n",
       "def get_expected_cost(beds, baths, has_basement):\n",
       "    value = 80000 + 30000 * beds + 10000 * baths + 40000 * has_basement\n",
       "    return value\n",
       "\n",
       "```"
      ],
      "text/plain": [
       "Solution: \n",
       "```python\n",
       "def get_expected_cost(beds, baths, has_basement):\n",
       "    value = 80000 + 30000 * beds + 10000 * baths + 40000 * has_basement\n",
       "    return value\n",
       "\n",
       "```"
      ]
     },
     "metadata": {},
     "output_type": "display_data"
    }
   ],
   "source": [
    "# Uncomment to see a hint\n",
    "q3.hint()\n",
    "\n",
    "# Uncomment to view the solution\n",
    "q3.solution()"
   ]
  },
  {
   "cell_type": "markdown",
   "id": "bf653526",
   "metadata": {
    "papermill": {
     "duration": 0.007868,
     "end_time": "2023-03-14T02:24:18.920527",
     "exception": false,
     "start_time": "2023-03-14T02:24:18.912659",
     "status": "completed"
    },
    "tags": []
   },
   "source": [
    "# Question 4\n",
    "\n",
    "We'll continue our study of boolean arithmetic.  For this question, your task is to provide a description of what happpens when you add booleans. \n",
    "\n",
    "Use the next code cell for your investigation.  Feel free to add or remove any lines of code - use it as your workspace!"
   ]
  },
  {
   "cell_type": "code",
   "execution_count": 9,
   "id": "5174a008",
   "metadata": {
    "execution": {
     "iopub.execute_input": "2023-03-14T02:24:18.938558Z",
     "iopub.status.busy": "2023-03-14T02:24:18.938124Z",
     "iopub.status.idle": "2023-03-14T02:24:18.944987Z",
     "shell.execute_reply": "2023-03-14T02:24:18.943615Z"
    },
    "papermill": {
     "duration": 0.01904,
     "end_time": "2023-03-14T02:24:18.947664",
     "exception": false,
     "start_time": "2023-03-14T02:24:18.928624",
     "status": "completed"
    },
    "tags": []
   },
   "outputs": [
    {
     "name": "stdout",
     "output_type": "stream",
     "text": [
      "0\n",
      "1\n",
      "1\n",
      "2\n",
      "3\n"
     ]
    }
   ],
   "source": [
    "print(False + False)\n",
    "print(True + False)\n",
    "print(False + True)\n",
    "print(True + True)\n",
    "print(False + True + True + True)"
   ]
  },
  {
   "cell_type": "markdown",
   "id": "07faf1da",
   "metadata": {
    "papermill": {
     "duration": 0.007715,
     "end_time": "2023-03-14T02:24:18.963472",
     "exception": false,
     "start_time": "2023-03-14T02:24:18.955757",
     "status": "completed"
    },
    "tags": []
   },
   "source": [
    "Once you have an answer, run the code cell below to see the solution.  Viewing the solution will give you credit for answering the problem."
   ]
  },
  {
   "cell_type": "code",
   "execution_count": 10,
   "id": "4c04bf10",
   "metadata": {
    "execution": {
     "iopub.execute_input": "2023-03-14T02:24:18.981556Z",
     "iopub.status.busy": "2023-03-14T02:24:18.981052Z",
     "iopub.status.idle": "2023-03-14T02:24:18.990344Z",
     "shell.execute_reply": "2023-03-14T02:24:18.988893Z"
    },
    "papermill": {
     "duration": 0.021661,
     "end_time": "2023-03-14T02:24:18.993041",
     "exception": false,
     "start_time": "2023-03-14T02:24:18.971380",
     "status": "completed"
    },
    "tags": []
   },
   "outputs": [
    {
     "data": {
      "application/javascript": [
       "parent.postMessage({\"jupyterEvent\": \"custom.exercise_interaction\", \"data\": {\"outcomeType\": 1, \"valueTowardsCompletion\": 0.2, \"interactionType\": 1, \"questionType\": 4, \"questionId\": \"4_AddingBooleans\", \"learnToolsVersion\": \"0.3.4\", \"failureMessage\": \"\", \"exceptionClass\": \"\", \"trace\": \"\"}}, \"*\")"
      ],
      "text/plain": [
       "<IPython.core.display.Javascript object>"
      ]
     },
     "metadata": {},
     "output_type": "display_data"
    },
    {
     "data": {
      "text/markdown": [
       "<span style=\"color:#33cc33\">Correct:</span> \n",
       "\n",
       "When you add booleans, adding `False` is equivalent to adding 0, and adding `True` is equivalent to adding 1."
      ],
      "text/plain": [
       "Correct: \n",
       "\n",
       "When you add booleans, adding `False` is equivalent to adding 0, and adding `True` is equivalent to adding 1."
      ]
     },
     "metadata": {},
     "output_type": "display_data"
    }
   ],
   "source": [
    "# Check your answer (Run this code cell to receive credit!)\n",
    "q4.check()"
   ]
  },
  {
   "cell_type": "markdown",
   "id": "ce47ea4e",
   "metadata": {
    "papermill": {
     "duration": 0.008346,
     "end_time": "2023-03-14T02:24:19.010313",
     "exception": false,
     "start_time": "2023-03-14T02:24:19.001967",
     "status": "completed"
    },
    "tags": []
   },
   "source": [
    "# 🌶️ Question 5\n",
    "\n",
    "You own an online shop where you sell rings with custom engravings.  You offer both gold plated and solid gold rings.\n",
    "- Gold plated rings have a base cost of \\\\$50, and you charge \\\\$7 per engraved unit.  \n",
    "- Solid gold rings have a base cost of \\\\$100, and you charge \\\\$10 per engraved unit.\n",
    "- Spaces and punctuation are counted as engraved units.\n",
    "\n",
    "Write a function `cost_of_project()` that takes two arguments:\n",
    "- `engraving` - a Python string with the text of the engraving\n",
    "- `solid_gold` - a Boolean that indicates whether the ring is solid gold\n",
    "\n",
    "It should return the cost of the project.  This question should be fairly challenging, and you may need a hint."
   ]
  },
  {
   "cell_type": "code",
   "execution_count": 11,
   "id": "22fbc679",
   "metadata": {
    "execution": {
     "iopub.execute_input": "2023-03-14T02:24:19.029386Z",
     "iopub.status.busy": "2023-03-14T02:24:19.028978Z",
     "iopub.status.idle": "2023-03-14T02:24:19.040378Z",
     "shell.execute_reply": "2023-03-14T02:24:19.039062Z"
    },
    "papermill": {
     "duration": 0.024066,
     "end_time": "2023-03-14T02:24:19.043001",
     "exception": false,
     "start_time": "2023-03-14T02:24:19.018935",
     "status": "completed"
    },
    "tags": []
   },
   "outputs": [
    {
     "data": {
      "application/javascript": [
       "parent.postMessage({\"jupyterEvent\": \"custom.exercise_interaction\", \"data\": {\"outcomeType\": 1, \"valueTowardsCompletion\": 0.2, \"interactionType\": 1, \"questionType\": 2, \"questionId\": \"5_CustomEngravings\", \"learnToolsVersion\": \"0.3.4\", \"failureMessage\": \"\", \"exceptionClass\": \"\", \"trace\": \"\"}}, \"*\")"
      ],
      "text/plain": [
       "<IPython.core.display.Javascript object>"
      ]
     },
     "metadata": {},
     "output_type": "display_data"
    },
    {
     "data": {
      "text/markdown": [
       "<span style=\"color:#33cc33\">Correct</span>"
      ],
      "text/plain": [
       "Correct"
      ]
     },
     "metadata": {},
     "output_type": "display_data"
    }
   ],
   "source": [
    "def cost_of_project(engraving, solid_gold):\n",
    "    cost = solid_gold *(100+10*len(engraving))+ (not solid_gold) *(50+7*len(engraving))\n",
    "    return cost\n",
    "\n",
    "# Check your answer\n",
    "q5.check()"
   ]
  },
  {
   "cell_type": "code",
   "execution_count": 12,
   "id": "e68c8456",
   "metadata": {
    "execution": {
     "iopub.execute_input": "2023-03-14T02:24:19.062663Z",
     "iopub.status.busy": "2023-03-14T02:24:19.062280Z",
     "iopub.status.idle": "2023-03-14T02:24:19.076327Z",
     "shell.execute_reply": "2023-03-14T02:24:19.075120Z"
    },
    "papermill": {
     "duration": 0.026943,
     "end_time": "2023-03-14T02:24:19.078784",
     "exception": false,
     "start_time": "2023-03-14T02:24:19.051841",
     "status": "completed"
    },
    "tags": []
   },
   "outputs": [
    {
     "data": {
      "application/javascript": [
       "parent.postMessage({\"jupyterEvent\": \"custom.exercise_interaction\", \"data\": {\"interactionType\": 2, \"questionType\": 2, \"questionId\": \"5_CustomEngravings\", \"learnToolsVersion\": \"0.3.4\", \"valueTowardsCompletion\": 0.0, \"failureMessage\": \"\", \"exceptionClass\": \"\", \"trace\": \"\", \"outcomeType\": 4}}, \"*\")"
      ],
      "text/plain": [
       "<IPython.core.display.Javascript object>"
      ]
     },
     "metadata": {},
     "output_type": "display_data"
    },
    {
     "data": {
      "text/markdown": [
       "<span style=\"color:#3366cc\">Hint:</span> There are two options - either the project uses solid gold or does not.  With this in mind, you can structure your solution like this: `cost = solid_gold * ____ + (not_solid_gold) * ____`.  You need to figure out how to fill in the blanks. Also, remember that:\n",
       "- If `solid_gold = True`, then `(not solid_gold) = False`, and if `solid_gold = False`, then `(not solid_gold) = True`.\n",
       "- Multiplying an integer by `True` is equivalent to multiplying it by 1, and multiplying an integer by `False` is equivalent to multiplying it by 0."
      ],
      "text/plain": [
       "Hint: There are two options - either the project uses solid gold or does not.  With this in mind, you can structure your solution like this: `cost = solid_gold * ____ + (not_solid_gold) * ____`.  You need to figure out how to fill in the blanks. Also, remember that:\n",
       "- If `solid_gold = True`, then `(not solid_gold) = False`, and if `solid_gold = False`, then `(not solid_gold) = True`.\n",
       "- Multiplying an integer by `True` is equivalent to multiplying it by 1, and multiplying an integer by `False` is equivalent to multiplying it by 0."
      ]
     },
     "metadata": {},
     "output_type": "display_data"
    },
    {
     "data": {
      "application/javascript": [
       "parent.postMessage({\"jupyterEvent\": \"custom.exercise_interaction\", \"data\": {\"interactionType\": 3, \"questionType\": 2, \"questionId\": \"5_CustomEngravings\", \"learnToolsVersion\": \"0.3.4\", \"valueTowardsCompletion\": 0.0, \"failureMessage\": \"\", \"exceptionClass\": \"\", \"trace\": \"\", \"outcomeType\": 4}}, \"*\")"
      ],
      "text/plain": [
       "<IPython.core.display.Javascript object>"
      ]
     },
     "metadata": {},
     "output_type": "display_data"
    },
    {
     "data": {
      "text/markdown": [
       "<span style=\"color:#33cc99\">Solution:</span> \n",
       "```python\n",
       "def cost_of_project(engraving, solid_gold):\n",
       "    cost = solid_gold * (100 + 10 * len(engraving)) + (not solid_gold) * (50 + 7 * len(engraving))\n",
       "    return cost\n",
       "\n",
       "```"
      ],
      "text/plain": [
       "Solution: \n",
       "```python\n",
       "def cost_of_project(engraving, solid_gold):\n",
       "    cost = solid_gold * (100 + 10 * len(engraving)) + (not solid_gold) * (50 + 7 * len(engraving))\n",
       "    return cost\n",
       "\n",
       "```"
      ]
     },
     "metadata": {},
     "output_type": "display_data"
    }
   ],
   "source": [
    "# Uncomment to see a hint\n",
    "q5.hint()\n",
    "\n",
    "# Uncomment to view the solution\n",
    "q5.solution()"
   ]
  },
  {
   "cell_type": "markdown",
   "id": "a9e088b7",
   "metadata": {
    "papermill": {
     "duration": 0.008882,
     "end_time": "2023-03-14T02:24:19.096860",
     "exception": false,
     "start_time": "2023-03-14T02:24:19.087978",
     "status": "completed"
    },
    "tags": []
   },
   "source": [
    "Run the next code cell to calculate the cost of engraving `Charlie+Denver` on a solid gold ring."
   ]
  },
  {
   "cell_type": "code",
   "execution_count": 13,
   "id": "8c763e84",
   "metadata": {
    "execution": {
     "iopub.execute_input": "2023-03-14T02:24:19.117700Z",
     "iopub.status.busy": "2023-03-14T02:24:19.117263Z",
     "iopub.status.idle": "2023-03-14T02:24:19.123329Z",
     "shell.execute_reply": "2023-03-14T02:24:19.121980Z"
    },
    "papermill": {
     "duration": 0.019946,
     "end_time": "2023-03-14T02:24:19.126004",
     "exception": false,
     "start_time": "2023-03-14T02:24:19.106058",
     "status": "completed"
    },
    "tags": []
   },
   "outputs": [
    {
     "name": "stdout",
     "output_type": "stream",
     "text": [
      "240\n"
     ]
    }
   ],
   "source": [
    "project_one = cost_of_project(\"Charlie+Denver\", True)\n",
    "print(project_one)"
   ]
  },
  {
   "cell_type": "markdown",
   "id": "cbbff306",
   "metadata": {
    "papermill": {
     "duration": 0.009052,
     "end_time": "2023-03-14T02:24:19.144260",
     "exception": false,
     "start_time": "2023-03-14T02:24:19.135208",
     "status": "completed"
    },
    "tags": []
   },
   "source": [
    "Use the next code cell to calculate the cost of engraving `08/10/2000` on a gold plated ring."
   ]
  },
  {
   "cell_type": "code",
   "execution_count": 14,
   "id": "7aeb867c",
   "metadata": {
    "execution": {
     "iopub.execute_input": "2023-03-14T02:24:19.164539Z",
     "iopub.status.busy": "2023-03-14T02:24:19.164096Z",
     "iopub.status.idle": "2023-03-14T02:24:19.170111Z",
     "shell.execute_reply": "2023-03-14T02:24:19.168855Z"
    },
    "papermill": {
     "duration": 0.019943,
     "end_time": "2023-03-14T02:24:19.173423",
     "exception": false,
     "start_time": "2023-03-14T02:24:19.153480",
     "status": "completed"
    },
    "tags": []
   },
   "outputs": [
    {
     "name": "stdout",
     "output_type": "stream",
     "text": [
      "120\n"
     ]
    }
   ],
   "source": [
    "project_two = cost_of_project(\"08/10/2000\", False)\n",
    "print(project_two)"
   ]
  },
  {
   "cell_type": "markdown",
   "id": "794de4fc",
   "metadata": {
    "papermill": {
     "duration": 0.008705,
     "end_time": "2023-03-14T02:24:19.192320",
     "exception": false,
     "start_time": "2023-03-14T02:24:19.183615",
     "status": "completed"
    },
    "tags": []
   },
   "source": [
    "# Keep going\n",
    "\n",
    "Continue to the next lesson to **[learn about conditions and conditional statements](https://www.kaggle.com/alexisbcook/conditions-and-conditional-statements)**."
   ]
  },
  {
   "cell_type": "markdown",
   "id": "861be52f",
   "metadata": {
    "papermill": {
     "duration": 0.008877,
     "end_time": "2023-03-14T02:24:19.210334",
     "exception": false,
     "start_time": "2023-03-14T02:24:19.201457",
     "status": "completed"
    },
    "tags": []
   },
   "source": [
    "---\n",
    "\n",
    "\n",
    "\n",
    "\n",
    "*Have questions or comments? Visit the [course discussion forum](https://www.kaggle.com/learn/intro-to-programming/discussion) to chat with other learners.*"
   ]
  }
 ],
 "metadata": {
  "kernelspec": {
   "display_name": "Python 3",
   "language": "python",
   "name": "python3"
  },
  "language_info": {
   "codemirror_mode": {
    "name": "ipython",
    "version": 3
   },
   "file_extension": ".py",
   "mimetype": "text/x-python",
   "name": "python",
   "nbconvert_exporter": "python",
   "pygments_lexer": "ipython3",
   "version": "3.7.12"
  },
  "papermill": {
   "default_parameters": {},
   "duration": 12.256749,
   "end_time": "2023-03-14T02:24:19.944595",
   "environment_variables": {},
   "exception": null,
   "input_path": "__notebook__.ipynb",
   "output_path": "__notebook__.ipynb",
   "parameters": {},
   "start_time": "2023-03-14T02:24:07.687846",
   "version": "2.4.0"
  }
 },
 "nbformat": 4,
 "nbformat_minor": 5
}
